{
 "cells": [
  {
   "cell_type": "markdown",
   "id": "b73b44d0-852a-4fee-949f-e569732bd96b",
   "metadata": {},
   "source": [
    "# Alias Generator Functions"
   ]
  },
  {
   "cell_type": "markdown",
   "id": "f0608545-20a2-42a0-acb4-731216b343aa",
   "metadata": {},
   "source": [
    "When working with REST APIs, using camel case for deserializing/serializing data, and snake case for field names is extremely common.\n",
    "However, doing this for hundreds of fields and dozens of models is tedious and error prone."
   ]
  },
  {
   "cell_type": "markdown",
   "id": "b3e9f17a-803e-418e-800f-0da0c3034671",
   "metadata": {},
   "source": [
    "Converting from snake case to camel case is rather systematic, and we could write a function to do this.\n",
    "\n",
    "In fact, there are 3rd party libraries that provide this very capability.\n",
    "\n",
    "Pydantic also does.\n",
    "\n",
    "These case conversion functions are documented [here](https://docs.pydantic.dev/latest/api/config/#pydantic.alias_generators)"
   ]
  },
  {
   "cell_type": "markdown",
   "id": "dfd7fab7-be63-4f7f-a3ce-1aab1d638f00",
   "metadata": {},
   "source": [
    "Let's look at them:"
   ]
  },
  {
   "cell_type": "code",
   "execution_count": 66,
   "id": "a033a0d7-4688-4358-b192-917eb36c8457",
   "metadata": {},
   "outputs": [
    {
     "name": "stdout",
     "output_type": "stream",
     "text": [
      "lastName\n",
      "last_name\n",
      "LastName\n"
     ]
    }
   ],
   "source": [
    "from pydantic.alias_generators import to_camel, to_snake, to_pascal\n",
    "print(to_camel(\"last_name\"))\n",
    "print(to_snake(\"lastName\"))\n",
    "print(to_pascal(\"last_naMe\"))"
   ]
  },
  {
   "cell_type": "markdown",
   "id": "437c40b6-dac7-4f4c-a2f0-927cf4dd775b",
   "metadata": {},
   "source": [
    "The reason we have those functions is that we can configure our **model** to auto generate field aliases using one of those functions.\n",
    "But any function that converts one string (the field name) into another (an alias) can also be used."
   ]
  },
  {
   "cell_type": "code",
   "execution_count": 67,
   "id": "36f578fd-b72e-40c4-be7c-67b72b6f0e62",
   "metadata": {},
   "outputs": [
    {
     "data": {
      "text/plain": [
       "'LAST_NAME'"
      ]
     },
     "execution_count": 67,
     "metadata": {},
     "output_type": "execute_result"
    }
   ],
   "source": [
    "def make_upper(in_str: str) -> str:\n",
    "    return in_str.upper()\n",
    "\n",
    "\n",
    "make_upper(\"last_name\")"
   ]
  },
  {
   "cell_type": "markdown",
   "id": "f0a14c64-a36e-4384-bb6f-5f6184e1fcb2",
   "metadata": {},
   "source": [
    "Now let's attach this function to our model definition, using, of course, `model_config`:"
   ]
  },
  {
   "cell_type": "code",
   "execution_count": 68,
   "id": "a7161c37-fa33-4189-83b8-4c0004658093",
   "metadata": {},
   "outputs": [
    {
     "name": "stdout",
     "output_type": "stream",
     "text": [
      "{'id_': 1, 'first_name': None, 'last_name': 'Fourier', 'age': 62}\n",
      "{'ID_': 1, 'FIRST_NAME': None, 'LAST_NAME': 'Fourier', 'AGE': 62}\n"
     ]
    }
   ],
   "source": [
    "from pydantic import BaseModel, ConfigDict, Field, ValidationError\n",
    "\n",
    "\n",
    "class Person(BaseModel):\n",
    "    model_config = ConfigDict(alias_generator=make_upper)\n",
    "\n",
    "    id_: int\n",
    "    first_name: str | None = None\n",
    "    last_name: str\n",
    "    age: int | None = None\n",
    "\n",
    "\n",
    "p = Person(ID_=1, LAST_NAME=\"Fourier\", AGE=62)\n",
    "\n",
    "print(p.model_dump())\n",
    "print(p.model_dump(by_alias=True))"
   ]
  },
  {
   "cell_type": "markdown",
   "id": "cf88d68b-1814-4424-886a-8290e011161b",
   "metadata": {},
   "source": [
    "You'll notice how `id_`'s alias became `ID_` - maybe we don't want that, in which case we can override it:"
   ]
  },
  {
   "cell_type": "code",
   "execution_count": 69,
   "id": "3d19b695-0e28-413a-9b07-63519a15ea91",
   "metadata": {},
   "outputs": [
    {
     "name": "stdout",
     "output_type": "stream",
     "text": [
      "{'age': FieldInfo(annotation=Union[int, NoneType], required=False, alias='AGE'),\n",
      " 'first_name': FieldInfo(annotation=Union[str, NoneType], required=False, alias='FIRST_NAME'),\n",
      " 'id_': FieldInfo(annotation=int, required=True, alias='ID', alias_priority=2),\n",
      " 'last_name': FieldInfo(annotation=str, required=True, alias='LAST_NAME')}\n"
     ]
    }
   ],
   "source": [
    "import pprint\n",
    "\n",
    "\n",
    "class Person(BaseModel):\n",
    "    model_config = ConfigDict(alias_generator=make_upper)\n",
    "\n",
    "    id_: int = Field(alias=\"ID\")\n",
    "    first_name: str | None = None\n",
    "    last_name: str\n",
    "    age: int | None = None\n",
    "\n",
    "\n",
    "pprint.pprint(Person.model_fields)"
   ]
  },
  {
   "cell_type": "code",
   "execution_count": 70,
   "id": "8778f75d-e1f9-42f6-bfb3-3294d0be9758",
   "metadata": {},
   "outputs": [
    {
     "name": "stdout",
     "output_type": "stream",
     "text": [
      "id_=1 first_name=None last_name='Fourier' age=62\n",
      "{'id_': 1, 'first_name': None, 'last_name': 'Fourier', 'age': 62}\n",
      "{'ID': 1, 'FIRST_NAME': None, 'LAST_NAME': 'Fourier', 'AGE': 62}\n"
     ]
    }
   ],
   "source": [
    "p = Person(ID=1, LAST_NAME=\"Fourier\", AGE=62)\n",
    "print(p)\n",
    "print(p.model_dump())\n",
    "print(p.model_dump(by_alias=True))"
   ]
  },
  {
   "cell_type": "markdown",
   "id": "e04c7e5e-2c94-4d52-affd-680c65edf56e",
   "metadata": {},
   "source": [
    "It is customary, when the data we are deserializing contains Python reserved words, to simply define the field name as that name with an underscore (`_`) appended to the field name, e.g.:\n",
    "- `id` -> `id_`\n",
    "- `list` -> `list_`\n",
    "- `filter` -> `filter_`"
   ]
  },
  {
   "cell_type": "markdown",
   "id": "6b595fde-9e4e-452d-ad81-4643d431dd42",
   "metadata": {},
   "source": [
    "We could certainly use the method we just saw, setting an alias generator, and overriding these special cases one by one:"
   ]
  },
  {
   "cell_type": "code",
   "execution_count": 71,
   "id": "51b69d8b-e721-4e9c-9287-981e7b921ae5",
   "metadata": {},
   "outputs": [],
   "source": [
    "class Model(BaseModel):\n",
    "    model_config = ConfigDict(alias_generator=to_camel)\n",
    "\n",
    "    id_: int = Field(alias=\"id\")\n",
    "    list_: list[str] = Field(alias=\"list\")\n",
    "    filter_: dict = Field(alias=\"filter\")\n",
    "    number_elements: list[int]"
   ]
  },
  {
   "cell_type": "markdown",
   "id": "28bae0b5-4d8d-4823-b27f-0791f82879dc",
   "metadata": {},
   "source": [
    "When we do this we have the following aliases:"
   ]
  },
  {
   "cell_type": "code",
   "execution_count": 72,
   "id": "1b0e08be-755e-4ad8-ae14-64cedb45bb9f",
   "metadata": {},
   "outputs": [
    {
     "data": {
      "text/plain": [
       "{'id_': FieldInfo(annotation=int, required=True, alias='id', alias_priority=2),\n",
       " 'list_': FieldInfo(annotation=list[str], required=True, alias='list', alias_priority=2),\n",
       " 'filter_': FieldInfo(annotation=dict, required=True, alias='filter', alias_priority=2),\n",
       " 'number_elements': FieldInfo(annotation=list[int], required=True, alias='numberElements')}"
      ]
     },
     "execution_count": 72,
     "metadata": {},
     "output_type": "execute_result"
    }
   ],
   "source": [
    "Model.model_fields"
   ]
  }
 ],
 "metadata": {
  "kernelspec": {
   "display_name": "Python 3 (ipykernel)",
   "language": "python",
   "name": "python3"
  },
  "language_info": {
   "codemirror_mode": {
    "name": "ipython",
    "version": 3
   },
   "file_extension": ".py",
   "mimetype": "text/x-python",
   "name": "python",
   "nbconvert_exporter": "python",
   "pygments_lexer": "ipython3",
   "version": "3.11.0"
  }
 },
 "nbformat": 4,
 "nbformat_minor": 5
}
