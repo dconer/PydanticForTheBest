{
 "cells": [
  {
   "cell_type": "markdown",
   "id": "da75b942-705c-42f1-96ac-d5e0a84bf98e",
   "metadata": {},
   "source": [
    "# Deserializing by Field Name or Alias"
   ]
  },
  {
   "cell_type": "code",
   "execution_count": 6,
   "id": "b47a0e93-15bb-416c-afec-292139a6a51c",
   "metadata": {},
   "outputs": [],
   "source": [
    "from pydantic import ConfigDict, Field, BaseModel, ValidationError\n",
    "\n",
    "\n",
    "class Model(BaseModel):\n",
    "    model_config = ConfigDict(populate_by_name=True)\n",
    "\n",
    "    id_: int = Field(alias=\"id\")\n",
    "    first_name: str = Field(alias=\"firstName\")"
   ]
  },
  {
   "cell_type": "markdown",
   "id": "3f9a4892-0da7-4375-8f44-bb30c7350d4b",
   "metadata": {},
   "source": [
    "And now we can use **either** the field name or the alias:"
   ]
  },
  {
   "cell_type": "code",
   "execution_count": 7,
   "id": "a2843c15-4da7-4e56-99f1-e775882a5d40",
   "metadata": {},
   "outputs": [
    {
     "data": {
      "text/plain": [
       "Model(id_=10, first_name='Newton')"
      ]
     },
     "execution_count": 7,
     "metadata": {},
     "output_type": "execute_result"
    }
   ],
   "source": [
    "Model(id_=10, first_name=\"Newton\")"
   ]
  },
  {
   "cell_type": "markdown",
   "id": "09a309cd-c0f3-4663-bf0c-dc2bcf76c54b",
   "metadata": {},
   "source": [
    "We can even mix it up:"
   ]
  },
  {
   "cell_type": "code",
   "execution_count": 8,
   "id": "c5f347e2-5480-4c4b-b565-6700856f828a",
   "metadata": {},
   "outputs": [
    {
     "data": {
      "text/plain": [
       "Model(id_=10, first_name='Newton')"
      ]
     },
     "execution_count": 8,
     "metadata": {},
     "output_type": "execute_result"
    }
   ],
   "source": [
    "Model(id_=10, firstName=\"Newton\")"
   ]
  },
  {
   "cell_type": "markdown",
   "id": "8dfd86b5-9b22-4bcb-8aac-ebe6b7f61594",
   "metadata": {},
   "source": [
    "And this works with dict or JSON deserialization too:"
   ]
  },
  {
   "cell_type": "code",
   "execution_count": 9,
   "id": "990e5c47-9ad7-4734-b4a7-b80bb318d591",
   "metadata": {},
   "outputs": [
    {
     "data": {
      "text/plain": [
       "Model(id_=10, first_name='Newton')"
      ]
     },
     "execution_count": 9,
     "metadata": {},
     "output_type": "execute_result"
    }
   ],
   "source": [
    "data = {\n",
    "    \"id_\": 10,\n",
    "    \"first_name\": \"Newton\"\n",
    "}\n",
    "\n",
    "Model.model_validate(data)"
   ]
  },
  {
   "cell_type": "markdown",
   "id": "ba52391a-8347-4b1b-b008-8cdbf2829b44",
   "metadata": {},
   "source": [
    "To recap what we have so far for configuring aliases and associated behaviors."
   ]
  },
  {
   "cell_type": "code",
   "execution_count": 11,
   "id": "abc0ef7e-e89f-443b-8e1f-d152774c22c6",
   "metadata": {},
   "outputs": [],
   "source": [
    "from pydantic.alias_generators import to_camel\n",
    "\n",
    "\n",
    "class Person(BaseModel):\n",
    "    model_config = ConfigDict(\n",
    "        alias_generator=to_camel,\n",
    "        populate_by_name=True,\n",
    "        extra=\"forbid\"\n",
    "    )\n",
    "\n",
    "    id_: int = Field(alias=\"id\", default=1)\n",
    "    first_name: str | None = None\n",
    "    last_name: str\n",
    "    age: int | None = None"
   ]
  },
  {
   "cell_type": "code",
   "execution_count": 12,
   "id": "51ed6272-1859-4e0f-af1e-75ca3baeec67",
   "metadata": {},
   "outputs": [
    {
     "data": {
      "text/plain": [
       "Person(id_=10, first_name='Isaac', last_name='Newton', age=84)"
      ]
     },
     "execution_count": 12,
     "metadata": {},
     "output_type": "execute_result"
    }
   ],
   "source": [
    "p = Person(id=10, first_name='Isaac', lastName='Newton', age=84)\n",
    "p"
   ]
  },
  {
   "cell_type": "code",
   "execution_count": 11,
   "id": "30147c5b-06de-4177-9faf-fc2e9e1d8cf1",
   "metadata": {},
   "outputs": [
    {
     "data": {
      "text/plain": [
       "Person(id_=10, first_name='Isaac', last_name='Newton', age=84)"
      ]
     },
     "execution_count": 11,
     "metadata": {},
     "output_type": "execute_result"
    }
   ],
   "source": [
    "data_json = \"\"\"\n",
    "{\n",
    "    \"id\": 10,\n",
    "    \"firstName\": \"Isaac\",\n",
    "    \"last_name\": \"Newton\",\n",
    "    \"age\": 84\n",
    "}\n",
    "\"\"\"\n",
    "\n",
    "p = Person.model_validate_json(data_json)\n",
    "p"
   ]
  },
  {
   "cell_type": "code",
   "execution_count": 12,
   "id": "297778c9-e134-4001-9f78-a00843880956",
   "metadata": {},
   "outputs": [
    {
     "data": {
      "text/plain": [
       "{'id_': 10, 'first_name': 'Isaac', 'last_name': 'Newton', 'age': 84}"
      ]
     },
     "execution_count": 12,
     "metadata": {},
     "output_type": "execute_result"
    }
   ],
   "source": [
    "p.model_dump()"
   ]
  },
  {
   "cell_type": "markdown",
   "id": "9f485912-619c-4307-bafe-0f80f060b5a4",
   "metadata": {},
   "source": [
    "Notice that the `populate_by_name` setting does not affect the names used when deserializing - the default is still to use the field name, not the alias.\n",
    "\n",
    "We need to specifically request this:"
   ]
  },
  {
   "cell_type": "code",
   "execution_count": 13,
   "id": "f5e6fb34-ce2c-4776-8a71-207804740293",
   "metadata": {},
   "outputs": [
    {
     "data": {
      "text/plain": [
       "{'id': 10, 'firstName': 'Isaac', 'lastName': 'Newton', 'age': 84}"
      ]
     },
     "execution_count": 13,
     "metadata": {},
     "output_type": "execute_result"
    }
   ],
   "source": [
    "p.model_dump(by_alias=True)"
   ]
  },
  {
   "cell_type": "code",
   "execution_count": 14,
   "id": "7ec533f5-4dfd-43b1-9209-32e9f8bf864d",
   "metadata": {},
   "outputs": [
    {
     "data": {
      "text/plain": [
       "'{\"id\":10,\"firstName\":\"Isaac\",\"lastName\":\"Newton\",\"age\":84}'"
      ]
     },
     "execution_count": 14,
     "metadata": {},
     "output_type": "execute_result"
    }
   ],
   "source": [
    "p.model_dump_json(by_alias=True)"
   ]
  },
  {
   "cell_type": "code",
   "execution_count": null,
   "id": "94050d33-693b-4d5f-8889-d342b9b8a370",
   "metadata": {},
   "outputs": [],
   "source": []
  }
 ],
 "metadata": {
  "kernelspec": {
   "display_name": "Python 3 (ipykernel)",
   "language": "python",
   "name": "python3"
  },
  "language_info": {
   "codemirror_mode": {
    "name": "ipython",
    "version": 3
   },
   "file_extension": ".py",
   "mimetype": "text/x-python",
   "name": "python",
   "nbconvert_exporter": "python",
   "pygments_lexer": "ipython3",
   "version": "3.11.0"
  }
 },
 "nbformat": 4,
 "nbformat_minor": 5
}
