{
 "cells": [
  {
   "cell_type": "markdown",
   "id": "9583284f-a848-4129-b31c-1b8eda1ee9ca",
   "metadata": {},
   "source": [
    "So far we have been happy with the way Pydantic serializes field values.\n",
    "\n",
    "But sometimes, especially with certain data types, like datetimes, we may want to control how fields get serialized."
   ]
  },
  {
   "cell_type": "markdown",
   "id": "6bda956d-3a03-4fad-9822-c175fe803a99",
   "metadata": {},
   "source": [
    "# Custom Serializers"
   ]
  },
  {
   "cell_type": "markdown",
   "id": "d006669f-bf8c-47de-bbcf-1309fc74fe23",
   "metadata": {},
   "source": [
    "We'll need to use a **decorator** function provided by Pydantic, called `@field_serializer` which is used to control serialization at the field level."
   ]
  },
  {
   "cell_type": "code",
   "execution_count": 31,
   "id": "4c156de5-29d5-48c8-b4e6-6c4d69259bfb",
   "metadata": {},
   "outputs": [],
   "source": [
    "from pydantic import BaseModel, field_serializer"
   ]
  },
  {
   "cell_type": "markdown",
   "id": "f8ca3ca3-42e8-4168-a194-ed504d02b1c4",
   "metadata": {},
   "source": [
    "The decorator has several arguments that defines which field the serializer applies to and how the serializer needs to be applied."
   ]
  },
  {
   "cell_type": "markdown",
   "id": "91206206-7ba5-4649-9984-32252df48a97",
   "metadata": {},
   "source": [
    "One important option is:\n",
    "- `when_used`: by default the custom serializer is always used, but we have other options available:\n",
    "    - `always`: the default, serializer is executed when serializing either to a dict or to JSON\n",
    "    - `unless-none`: serializer is not used if the value is None\n",
    "    - `json`: serializer is only used when serializing to JSON\n",
    "    - `json-unless-none`: serializer used when serializing to JSON, unless the value is None"
   ]
  },
  {
   "cell_type": "markdown",
   "id": "3b7e3df3-7ce6-464b-9095-1d9464c0729f",
   "metadata": {},
   "source": [
    "There is also another option for mode plain vs wrap, but this is rarely used, and I won't cover it in this course."
   ]
  },
  {
   "cell_type": "markdown",
   "id": "4f5c0e3a-ad93-487b-ab30-5b8fd933b874",
   "metadata": {},
   "source": [
    "Let's take a look the `when_used` option and understand the circumstances when our serializer gets called."
   ]
  },
  {
   "cell_type": "code",
   "execution_count": 32,
   "id": "18bfff0d-895f-4bee-b049-ced51cc24c75",
   "metadata": {},
   "outputs": [
    {
     "name": "stdout",
     "output_type": "stream",
     "text": [
      "type = <class 'datetime.datetime'>\n",
      "{'dt': datetime.datetime(2020, 1, 1, 12, 0)}\n",
      "type = <class 'datetime.datetime'>\n",
      "{\"dt\":\"2020-01-01T12:00:00\"}\n"
     ]
    }
   ],
   "source": [
    "from datetime import datetime\n",
    "\n",
    "\n",
    "class Model(BaseModel):\n",
    "    dt: datetime | None = None\n",
    "\n",
    "    @field_serializer(\"dt\", when_used=\"always\")\n",
    "    def serialize_name(self, value):\n",
    "        print(f\"type = {type(value)}\")\n",
    "        return value\n",
    "\n",
    "\n",
    "m = Model(dt=\"2020-01-01T12:00:00\")\n",
    "\n",
    "print(m.model_dump())\n",
    "print(m.model_dump_json())"
   ]
  },
  {
   "cell_type": "markdown",
   "id": "1cd873cf-58dd-41c4-8285-be9470bba1c8",
   "metadata": {},
   "source": [
    "The data was correctly serialized, since Pydantic can correctly serialize datetime to JSON (uses ISO standard)."
   ]
  },
  {
   "cell_type": "markdown",
   "id": "503e9d3e-7332-44ca-a237-ae7aeac580e1",
   "metadata": {},
   "source": [
    "However, when serializing to JSON we may not want this datetime representation. \n",
    "\n",
    "We'll get back to that in a minute."
   ]
  },
  {
   "cell_type": "markdown",
   "id": "20e56cf9-7b9c-4e59-914f-000bb845b343",
   "metadata": {},
   "source": [
    "Let's see what happens if the value of `dt` is None:"
   ]
  },
  {
   "cell_type": "code",
   "execution_count": 33,
   "id": "c36a6da4-7386-44aa-95c2-f2469a3f3315",
   "metadata": {},
   "outputs": [
    {
     "name": "stdout",
     "output_type": "stream",
     "text": [
      "type = <class 'NoneType'>\n",
      "{'dt': None}\n",
      "type = <class 'NoneType'>\n",
      "{\"dt\":null}\n"
     ]
    }
   ],
   "source": [
    "m = Model()\n",
    "print(m.model_dump())\n",
    "print(m.model_dump_json())"
   ]
  },
  {
   "cell_type": "markdown",
   "id": "b4b4f9c4-d16b-49da-84d4-3f92083e162a",
   "metadata": {},
   "source": [
    "As you can see, our custom serializer was called in both cases."
   ]
  },
  {
   "cell_type": "markdown",
   "id": "2b7cf894-4493-467e-9710-2d0e8abe41ba",
   "metadata": {},
   "source": [
    "If we don't want to run our custom serializer when the field value is `None`, we can use one of the other `when_used` options:"
   ]
  },
  {
   "cell_type": "code",
   "execution_count": 34,
   "id": "19c2f5d3-fe07-4e51-8bef-b10d0bf76eec",
   "metadata": {},
   "outputs": [
    {
     "name": "stdout",
     "output_type": "stream",
     "text": [
      "type = <class 'datetime.datetime'>\n",
      "{'dt': datetime.datetime(2020, 1, 1, 12, 0)}\n",
      "{'dt': None}\n"
     ]
    }
   ],
   "source": [
    "\n",
    "from datetime import datetime\n",
    "\n",
    "\n",
    "class Model(BaseModel):\n",
    "    dt: datetime | None = None\n",
    "\n",
    "    @field_serializer(\"dt\", when_used=\"unless-none\")\n",
    "    def serialize_name(self, value):\n",
    "        print(f\"type = {type(value)}\")\n",
    "        return value\n",
    "\n",
    "\n",
    "m = Model(dt=\"2020-01-01T12:00:00\")\n",
    "print(m.model_dump())\n",
    "null_model = Model()\n",
    "print(null_model.model_dump())"
   ]
  },
  {
   "cell_type": "markdown",
   "id": "9c2d46cc-0d52-4c9b-a93f-3f49d2fa733c",
   "metadata": {},
   "source": [
    "As you can see, our serializer did not get called when `dt` was `None`."
   ]
  },
  {
   "cell_type": "markdown",
   "id": "4bb76061-9503-475e-8514-5eac730ed3b2",
   "metadata": {},
   "source": [
    "Let's go back to the case where we only want to change the serialization when serializing to JSON. We might be OK with the dictionary serialization, but for our JSON output we want to modify the datetime format to be formatted like this:\n",
    "\n",
    "```\n",
    "2020/1/1 12:00 PM\n",
    "```"
   ]
  },
  {
   "cell_type": "markdown",
   "id": "28f08ed3-484a-4538-a51a-1327b95052c7",
   "metadata": {},
   "source": [
    "So, let's use this in our serializer, and configure the serializer to only apply to JSON serialization, and not when the value is None:"
   ]
  },
  {
   "cell_type": "code",
   "execution_count": 35,
   "id": "95f78cce-9a48-4754-9b20-e571fb1a829e",
   "metadata": {},
   "outputs": [],
   "source": [
    "from datetime import datetime\n",
    "\n",
    "\n",
    "class Model(BaseModel):\n",
    "    dt: datetime | None = None\n",
    "\n",
    "    @field_serializer(\"dt\", when_used=\"json-unless-none\")\n",
    "    def serialize_name(self, value):\n",
    "        print(f\"type = {type(value)}\")\n",
    "        return value.strftime(\"%Y/%-m/%-d %I:%M %p\")"
   ]
  },
  {
   "cell_type": "code",
   "execution_count": 36,
   "id": "2fbbf6f9-7d33-46f0-88dd-ba8fdc510a56",
   "metadata": {},
   "outputs": [
    {
     "name": "stdout",
     "output_type": "stream",
     "text": [
      "dt=datetime.datetime(2020, 1, 1, 12, 0)\n",
      "{'dt': datetime.datetime(2020, 1, 1, 12, 0)}\n",
      "type = <class 'datetime.datetime'>\n",
      "{\"dt\":\"2020/1/1 12:00 PM\"}\n",
      "{\"dt\":null}\n"
     ]
    }
   ],
   "source": [
    "m = Model(dt=\"2020-01-01T12:00:00\")\n",
    "m_null = Model()\n",
    "\n",
    "print(m)\n",
    "print(m.model_dump())\n",
    "print(m.model_dump_json())\n",
    "print(m_null.model_dump_json())"
   ]
  },
  {
   "cell_type": "code",
   "execution_count": 37,
   "id": "8fef963b-933d-44aa-8dd0-6dc6c33c09de",
   "metadata": {},
   "outputs": [
    {
     "name": "stdout",
     "output_type": "stream",
     "text": [
      "type = <class 'datetime.datetime'>\n"
     ]
    },
    {
     "data": {
      "text/plain": [
       "'{\"dt\":\"2020/1/1 12:00 PM\"}'"
      ]
     },
     "execution_count": 37,
     "metadata": {},
     "output_type": "execute_result"
    }
   ],
   "source": [
    "m.model_dump_json()"
   ]
  },
  {
   "cell_type": "markdown",
   "id": "a43e5820-1617-4949-a572-250b1d0cb03a",
   "metadata": {},
   "source": [
    "---\n",
    "Now suppose we want to implement a different serialization depending on whether we are serializing to a dictionary or to JSON.\n",
    "\n",
    "We need to somehow be able to figure out, inside our serializer which serialization we are performing and react accordingly.\n",
    "\n",
    "Pydantic implements yet another argument that we can add to our serializer function - an argument with type `FieldSerializationInfo`. Let's take a look:"
   ]
  },
  {
   "cell_type": "code",
   "execution_count": 48,
   "id": "2fd355c1-8833-4a2f-86a6-6a9d519c2233",
   "metadata": {},
   "outputs": [],
   "source": [
    "from pydantic import FieldSerializationInfo\n",
    "\n",
    "\n",
    "class Model(BaseModel):\n",
    "    dt: datetime | None = None\n",
    "\n",
    "    @field_serializer(\"dt\", when_used=\"unless-none\")\n",
    "    def dt_serializer(self, value, info: FieldSerializationInfo):\n",
    "        print(f\"info={info}\")\n",
    "        return value"
   ]
  },
  {
   "cell_type": "code",
   "execution_count": 50,
   "id": "563d6f96-1724-4418-aab1-d4fa1233870b",
   "metadata": {},
   "outputs": [
    {
     "name": "stdout",
     "output_type": "stream",
     "text": [
      "info=SerializationInfo(include=None, exclude=None, mode='python', by_alias=False, exclude_unset=False, exclude_defaults=False, exclude_none=False, round_trip=False)\n"
     ]
    },
    {
     "data": {
      "text/plain": [
       "{'dt': datetime.datetime(2020, 1, 1, 0, 0)}"
      ]
     },
     "execution_count": 50,
     "metadata": {},
     "output_type": "execute_result"
    }
   ],
   "source": [
    "m = Model(dt=datetime(2020, 1, 1))\n",
    "m.model_dump()"
   ]
  },
  {
   "cell_type": "markdown",
   "id": "13a73caf-ad7e-491f-9415-fdb5f44620a8",
   "metadata": {},
   "source": [
    "Notice that `mode` value in the `info` object? It is set to `python`."
   ]
  },
  {
   "cell_type": "markdown",
   "id": "3a4817f9-1079-452d-ae57-a1f840252b02",
   "metadata": {},
   "source": [
    "Now, let's dump to JSON:"
   ]
  },
  {
   "cell_type": "code",
   "execution_count": 51,
   "id": "8be7cc43-4f77-45cd-a13d-6f5d907658ff",
   "metadata": {},
   "outputs": [
    {
     "name": "stdout",
     "output_type": "stream",
     "text": [
      "info=SerializationInfo(include=None, exclude=None, mode='json', by_alias=False, exclude_unset=False, exclude_defaults=False, exclude_none=False, round_trip=False)\n"
     ]
    },
    {
     "data": {
      "text/plain": [
       "'{\"dt\":\"2020-01-01T00:00:00\"}'"
      ]
     },
     "execution_count": 51,
     "metadata": {},
     "output_type": "execute_result"
    }
   ],
   "source": [
    "m.model_dump_json()"
   ]
  },
  {
   "cell_type": "markdown",
   "id": "6e737d5e-458d-4635-ad84-88619109a696",
   "metadata": {},
   "source": [
    "Notice that the `mode` is now set to `json`.\n",
    "\n",
    "We could use that, but `FieldSerializationInfo` offers us a method named `mode_is_json` that we can use instead."
   ]
  },
  {
   "cell_type": "code",
   "execution_count": 55,
   "id": "b8afd8d2-ee0b-44f7-b066-d0d3bb6efcb2",
   "metadata": {},
   "outputs": [],
   "source": [
    "class Model(BaseModel):\n",
    "    dt: datetime | None = None\n",
    "\n",
    "    @field_serializer(\"dt\", when_used=\"unless-none\")\n",
    "    def dt_serializer(self, value, info: FieldSerializationInfo):\n",
    "        print(f\"mode_is_json={info.mode_is_json()}\")\n",
    "        return value"
   ]
  },
  {
   "cell_type": "code",
   "execution_count": 56,
   "id": "acad6c11-24b1-428b-be3a-8c3b2630f086",
   "metadata": {},
   "outputs": [],
   "source": [
    "m = Model(dt=datetime(2020, 1, 1))"
   ]
  },
  {
   "cell_type": "code",
   "execution_count": 58,
   "id": "f8a28322-a196-4fab-bc99-53785285e3d0",
   "metadata": {},
   "outputs": [
    {
     "name": "stdout",
     "output_type": "stream",
     "text": [
      "mode_is_json=False\n"
     ]
    },
    {
     "data": {
      "text/plain": [
       "{'dt': datetime.datetime(2020, 1, 1, 0, 0)}"
      ]
     },
     "execution_count": 58,
     "metadata": {},
     "output_type": "execute_result"
    }
   ],
   "source": [
    "m.model_dump()"
   ]
  },
  {
   "cell_type": "code",
   "execution_count": 59,
   "id": "77657811-f2b1-4924-862b-c5fd85112b0e",
   "metadata": {},
   "outputs": [
    {
     "name": "stdout",
     "output_type": "stream",
     "text": [
      "mode_is_json=True\n"
     ]
    },
    {
     "data": {
      "text/plain": [
       "'{\"dt\":\"2020-01-01T00:00:00\"}'"
      ]
     },
     "execution_count": 59,
     "metadata": {},
     "output_type": "execute_result"
    }
   ],
   "source": [
    "m.model_dump_json()"
   ]
  },
  {
   "cell_type": "markdown",
   "id": "48ec271e-23d0-4720-94f9-07ec76a9c217",
   "metadata": {},
   "source": [
    "Let's write a simple Python function that will do the following, given a datetime object as an argument:\n",
    "- if the datetime is naive, make it aware, and assume the naive datetime was already UTC\n",
    "- if the datetime is aware, change it to be UTC"
   ]
  }
 ],
 "metadata": {
  "kernelspec": {
   "display_name": "Python 3 (ipykernel)",
   "language": "python",
   "name": "python3"
  },
  "language_info": {
   "codemirror_mode": {
    "name": "ipython",
    "version": 3
   },
   "file_extension": ".py",
   "mimetype": "text/x-python",
   "name": "python",
   "nbconvert_exporter": "python",
   "pygments_lexer": "ipython3",
   "version": "3.11.0"
  }
 },
 "nbformat": 4,
 "nbformat_minor": 5
}
