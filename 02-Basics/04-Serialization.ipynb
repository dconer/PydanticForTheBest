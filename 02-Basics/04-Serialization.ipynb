{
 "cells": [
  {
   "cell_type": "markdown",
   "id": "7917c010-0cca-42a2-80fe-d4cc8d28dbfe",
   "metadata": {},
   "source": [
    "# Serialization"
   ]
  },
  {
   "cell_type": "markdown",
   "id": "e07a5338-e47f-4714-8a06-fe9c984c25e9",
   "metadata": {},
   "source": [
    "Let's start with the same model we had before:"
   ]
  },
  {
   "cell_type": "code",
   "execution_count": 1,
   "id": "0bc141b7-ebf3-4580-b084-e15d07407fb0",
   "metadata": {},
   "outputs": [],
   "source": [
    "from pydantic import BaseModel, ValidationError\n",
    "\n",
    "\n",
    "class Person(BaseModel):\n",
    "    first_name: str\n",
    "    last_name: str\n",
    "    age: int"
   ]
  },
  {
   "cell_type": "markdown",
   "id": "5b4a1eb1-d498-45f6-91f1-3fe68259e41a",
   "metadata": {},
   "source": [
    "And let's create a couple of instances of this model:"
   ]
  },
  {
   "cell_type": "code",
   "execution_count": 3,
   "id": "fef6864d-bf70-4e27-aea6-b2c10b1f4477",
   "metadata": {},
   "outputs": [],
   "source": [
    "galois = Person(first_name='Evariste', last_name='Galois', age=20)\n",
    "newton = Person(first_name='Isaac', last_name='Newton', age=84)"
   ]
  },
  {
   "cell_type": "markdown",
   "id": "0afcdf19-1005-44c5-946d-8c8c49f2f9e6",
   "metadata": {},
   "source": [
    "Those are standard Python objects, they even have instance dictionaries:"
   ]
  },
  {
   "cell_type": "code",
   "execution_count": 4,
   "id": "816f1ae0-0617-4993-8f42-c8db65f178e4",
   "metadata": {},
   "outputs": [
    {
     "data": {
      "text/plain": [
       "{'first_name': 'Isaac', 'last_name': 'Newton', 'age': 84}"
      ]
     },
     "execution_count": 4,
     "metadata": {},
     "output_type": "execute_result"
    }
   ],
   "source": [
    "newton.__dict__"
   ]
  },
  {
   "cell_type": "markdown",
   "id": "be048309-cdff-4bbf-a6f0-630e93e72eae",
   "metadata": {},
   "source": [
    "But because they inherited from Pydantic's `BaseModel`, we have a lot of extra functionality.\n",
    "\n",
    "For example, we can choose to generate a dictionary, or a JSON string that represents the data in the instance.\n",
    "\n",
    "Pydantic provides us two methods for this:\n",
    "- `model_dump()` -> str\n",
    "- `model_dump_json()` -> str_json"
   ]
  },
  {
   "cell_type": "markdown",
   "id": "f092e6e7-c810-4960-994c-3a7bc9678f52",
   "metadata": {},
   "source": [
    "These methods will take the data in the instance, and produce a different object - a `dict` or a `str`. \n",
    "\n",
    "This is called **serializing** the model."
   ]
  },
  {
   "cell_type": "markdown",
   "id": "4aa729ba-95b0-414b-b132-8a7b9b03f017",
   "metadata": {},
   "source": [
    "Note that under the hood, Pydantic uses `dumps()` from the `json` module - which means you can technically pass arguments to it via the `model_dump_json()` method."
   ]
  },
  {
   "cell_type": "markdown",
   "id": "b4c68d33-ff0c-4b5a-98f3-eac698ea9601",
   "metadata": {},
   "source": [
    "And we can `print()` this so it handles escape characters properly for display:"
   ]
  },
  {
   "cell_type": "code",
   "execution_count": 16,
   "id": "aaa4250a-63fc-49c9-a161-e3a559d4f843",
   "metadata": {},
   "outputs": [
    {
     "name": "stdout",
     "output_type": "stream",
     "text": [
      "{\n",
      "  \"first_name\": \"Isaac\",\n",
      "  \"last_name\": \"Newton\",\n",
      "  \"age\": 84\n",
      "}\n"
     ]
    }
   ],
   "source": [
    "print(newton.model_dump_json(indent=2))"
   ]
  },
  {
   "cell_type": "markdown",
   "id": "b14ac458-e786-4d29-938e-8aa0dcfdec1a",
   "metadata": {},
   "source": [
    "We can also choose whether to exclude certain fields from the serialization by using the `exclude` argument of the dump methods:"
   ]
  },
  {
   "cell_type": "code",
   "execution_count": 18,
   "id": "e7218122-431d-4e3c-b0ab-d07c7d17eac1",
   "metadata": {},
   "outputs": [
    {
     "data": {
      "text/plain": [
       "{'last_name': 'Galois'}"
      ]
     },
     "execution_count": 18,
     "metadata": {},
     "output_type": "execute_result"
    }
   ],
   "source": [
    "galois.model_dump(exclude=['first_name', 'age'])"
   ]
  },
  {
   "cell_type": "markdown",
   "id": "b035179d-b09c-4276-b510-1051d9a25379",
   "metadata": {},
   "source": [
    "Similarly with the JSON version:"
   ]
  },
  {
   "cell_type": "code",
   "execution_count": 21,
   "id": "a24ac7f4-e100-4db0-8bb8-b29deb46afc6",
   "metadata": {},
   "outputs": [
    {
     "data": {
      "text/plain": [
       "{'first_name': 'Isaac', 'last_name': 'Newton'}"
      ]
     },
     "execution_count": 21,
     "metadata": {},
     "output_type": "execute_result"
    }
   ],
   "source": [
    "newton.model_dump(exclude=['age'])"
   ]
  },
  {
   "cell_type": "markdown",
   "id": "d88af0a0-bb35-4bf9-9795-de571a01e122",
   "metadata": {},
   "source": [
    "Instead of picking which fields to exclude, we could also pick which fields to include (and it will then exclude all the others):"
   ]
  },
  {
   "cell_type": "code",
   "execution_count": 22,
   "id": "9989ddff-c0af-4883-b2ff-40e02c623d88",
   "metadata": {},
   "outputs": [
    {
     "data": {
      "text/plain": [
       "{'last_name': 'Newton'}"
      ]
     },
     "execution_count": 22,
     "metadata": {},
     "output_type": "execute_result"
    }
   ],
   "source": [
    "newton.model_dump(include=[\"last_name\"])"
   ]
  }
 ],
 "metadata": {
  "kernelspec": {
   "display_name": "Python 3 (ipykernel)",
   "language": "python",
   "name": "python3"
  },
  "language_info": {
   "codemirror_mode": {
    "name": "ipython",
    "version": 3
   },
   "file_extension": ".py",
   "mimetype": "text/x-python",
   "name": "python",
   "nbconvert_exporter": "python",
   "pygments_lexer": "ipython3",
   "version": "3.11.0"
  }
 },
 "nbformat": 4,
 "nbformat_minor": 5
}
