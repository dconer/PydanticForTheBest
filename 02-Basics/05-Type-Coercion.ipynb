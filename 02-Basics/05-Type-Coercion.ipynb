{
 "cells": [
  {
   "cell_type": "markdown",
   "id": "75c2f9f2-2b24-49ff-aa48-ea9e9eeea2d2",
   "metadata": {},
   "source": [
    "# Type Coercion"
   ]
  },
  {
   "cell_type": "markdown",
   "id": "992ae47d-5465-4940-abde-70d1de369222",
   "metadata": {},
   "source": [
    "When Pydantic deserializes data, one of the things it does is perform validation. This includes ensuring that the model instance data ends up as the correct type."
   ]
  },
  {
   "cell_type": "markdown",
   "id": "073bd1e5-3c08-4113-88c0-a2b77db20455",
   "metadata": {},
   "source": [
    "Let's look at an example:"
   ]
  },
  {
   "cell_type": "code",
   "execution_count": 4,
   "id": "24729a0a-eb7f-4e3d-b8b7-0aea9d11fe48",
   "metadata": {},
   "outputs": [],
   "source": [
    "from pydantic import BaseModel, ValidationError\n",
    "\n",
    "\n",
    "class Coordinates(BaseModel):\n",
    "    x: float\n",
    "    y: float"
   ]
  },
  {
   "cell_type": "markdown",
   "id": "29e01485-de6c-4169-8f1f-ce2d2a21924e",
   "metadata": {},
   "source": [
    "Let's deseralize some data:"
   ]
  },
  {
   "cell_type": "code",
   "execution_count": 5,
   "id": "afce99e4-586a-4583-be3a-7719109c7648",
   "metadata": {},
   "outputs": [
    {
     "data": {
      "text/plain": [
       "Coordinates(x=1.1, y=2.2)"
      ]
     },
     "execution_count": 5,
     "metadata": {},
     "output_type": "execute_result"
    }
   ],
   "source": [
    "p1 = Coordinates(x=1.1, y=2.2)\n",
    "p1"
   ]
  },
  {
   "cell_type": "markdown",
   "id": "8e592869-3f51-4611-8e61-142d6cc3a28d",
   "metadata": {},
   "source": [
    "We can see our field definitions:"
   ]
  },
  {
   "cell_type": "code",
   "execution_count": 6,
   "id": "8b7c5539-7d74-47c9-8f2a-fffefa4d54cb",
   "metadata": {},
   "outputs": [
    {
     "data": {
      "text/plain": [
       "{'x': FieldInfo(annotation=float, required=True),\n",
       " 'y': FieldInfo(annotation=float, required=True)}"
      ]
     },
     "execution_count": 6,
     "metadata": {},
     "output_type": "execute_result"
    }
   ],
   "source": [
    "Coordinates.model_fields"
   ]
  },
  {
   "cell_type": "markdown",
   "id": "d73ab5af-aaba-43d0-8e16-ff3552062c3b",
   "metadata": {},
   "source": [
    "But what happens if the data we provide for deserializtion is not an exact type match?"
   ]
  },
  {
   "cell_type": "markdown",
   "id": "bcc2f2ef-e6b0-4193-a40b-3bc944dfa35d",
   "metadata": {},
   "source": [
    "Pydantic will attempt to \"transform\" the data into the correct type - this is called type **coercion**"
   ]
  },
  {
   "cell_type": "markdown",
   "id": "e353a190-0f5d-4311-8c5b-dab7931c595e",
   "metadata": {},
   "source": [
    "Let's see this:"
   ]
  },
  {
   "cell_type": "code",
   "execution_count": 7,
   "id": "98a5a637-2838-43e4-b1df-19337ffbbbd8",
   "metadata": {},
   "outputs": [
    {
     "data": {
      "text/plain": [
       "Coordinates(x=0.0, y=1.2)"
      ]
     },
     "execution_count": 7,
     "metadata": {},
     "output_type": "execute_result"
    }
   ],
   "source": [
    "p2 = Coordinates(x=0, y=\"1.2\")\n",
    "p2"
   ]
  },
  {
   "cell_type": "markdown",
   "id": "e88a6963-e783-4d7c-adc9-442491e09091",
   "metadata": {},
   "source": [
    "As you can see, Pydantic was able to coerce the **integer** `0`, and the **string** `\"1.2\"` to a float value:"
   ]
  },
  {
   "cell_type": "code",
   "execution_count": 7,
   "id": "6965822c-7b6f-4614-9356-8e1e59fa8e29",
   "metadata": {},
   "outputs": [
    {
     "data": {
      "text/plain": [
       "(float, float)"
      ]
     },
     "execution_count": 7,
     "metadata": {},
     "output_type": "execute_result"
    }
   ],
   "source": [
    "type(p2.x), type(p2.y)"
   ]
  },
  {
   "cell_type": "markdown",
   "id": "33edaa42-0f51-4523-a556-acc7988f1499",
   "metadata": {},
   "source": [
    "Pydantic is not always able to perform the type coercion. In fact, we can even choose the level of type coercion that we find acceptable.\n",
    "\n",
    "By default, the type coercion is termed **lax** - and it attempts a variety of type coercions.\n",
    "\n",
    "But, as we'll see later, we have the option to change that, to a **strict** mode that is far less forgiving when incorrect data types are provided in the data."
   ]
  },
  {
   "cell_type": "markdown",
   "id": "e38f46e3-e582-45c0-8e0e-c86921185cf0",
   "metadata": {},
   "source": [
    "Pydantic docs that describes what type coercions will be attempted in either of these modes, is located here:\n",
    "\n",
    "[https://docs.pydantic.dev/latest/concepts/conversion_table/](https://docs.pydantic.dev/latest/concepts/conversion_table/)"
   ]
  },
  {
   "cell_type": "markdown",
   "id": "fe6f0c2a-7a97-4573-a969-8129d8b91da0",
   "metadata": {},
   "source": [
    "If you look at that conversion table, you'll notice, for example, that in lax mode, and dealing with Python data types, input data that is float, int, or Decimal will be coerced to a float. However, strings wil be coerced to floats only under certain conditions.\n",
    "\n",
    "In strict mode, notice that string to float conversion is not supported (so it will raise a validation error)."
   ]
  },
  {
   "cell_type": "markdown",
   "id": "97c12002-89fe-45ec-8f60-98b1087e9c08",
   "metadata": {},
   "source": [
    "Use this table when considering type coercion because things are not always \"obvious\"."
   ]
  }
 ],
 "metadata": {
  "kernelspec": {
   "display_name": "Python 3 (ipykernel)",
   "language": "python",
   "name": "python3"
  },
  "language_info": {
   "codemirror_mode": {
    "name": "ipython",
    "version": 3
   },
   "file_extension": ".py",
   "mimetype": "text/x-python",
   "name": "python",
   "nbconvert_exporter": "python",
   "pygments_lexer": "ipython3",
   "version": "3.11.0"
  }
 },
 "nbformat": 4,
 "nbformat_minor": 5
}
