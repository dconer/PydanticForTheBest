{
 "cells": [
  {
   "cell_type": "markdown",
   "id": "a82c2df5-ed27-4f86-a589-8a885eff948c",
   "metadata": {},
   "source": [
    "# Nullable Fields"
   ]
  },
  {
   "cell_type": "markdown",
   "id": "b973fd11-b659-4e30-ab1a-e674038276ad",
   "metadata": {},
   "source": [
    "A nullable field is slightly different from an optional field."
   ]
  },
  {
   "cell_type": "markdown",
   "id": "9d4e6982-d851-43a1-ba08-f5816b8d5a46",
   "metadata": {},
   "source": [
    "On the other hand, nullability of a field has nothing to do with whether it is optional or not - it basically just indicates whether a field can be set to `None` (or `null` in JSON) perspective."
   ]
  },
  {
   "cell_type": "code",
   "execution_count": 1,
   "id": "8a05edb4-22dc-4b53-bc92-9d6bdb437697",
   "metadata": {},
   "outputs": [],
   "source": [
    "from pydantic import BaseModel, ValidationError\n",
    "\n",
    "\n",
    "class Model(BaseModel):\n",
    "    field: int"
   ]
  },
  {
   "cell_type": "code",
   "execution_count": 2,
   "id": "3fdc0e01-59a5-4dc6-b5bb-a84649ff1990",
   "metadata": {},
   "outputs": [
    {
     "name": "stdout",
     "output_type": "stream",
     "text": [
      "1 validation error for Model\n",
      "field\n",
      "  Input should be a valid integer [type=int_type, input_value=None, input_type=NoneType]\n",
      "    For further information visit https://errors.pydantic.dev/2.5/v/int_type\n"
     ]
    }
   ],
   "source": [
    "try:\n",
    "    Model(field=None)\n",
    "except ValidationError as ex:\n",
    "    print(ex)"
   ]
  },
  {
   "cell_type": "markdown",
   "id": "3b26597f-2b1f-434b-a05e-aa42a0e7eb71",
   "metadata": {},
   "source": [
    "As you can see, the exception we get here is saying that the data is not a valid integer, quite different from this:"
   ]
  },
  {
   "cell_type": "code",
   "execution_count": 3,
   "id": "497c5030-23aa-4aa2-98b7-4a6cba2ba096",
   "metadata": {},
   "outputs": [
    {
     "name": "stdout",
     "output_type": "stream",
     "text": [
      "1 validation error for Model\n",
      "field\n",
      "  Field required [type=missing, input_value={}, input_type=dict]\n",
      "    For further information visit https://errors.pydantic.dev/2.5/v/missing\n"
     ]
    }
   ],
   "source": [
    "try:\n",
    "    Model()\n",
    "except ValidationError as ex:\n",
    "    print(ex)"
   ]
  },
  {
   "cell_type": "markdown",
   "id": "33626e72-1684-4481-b67c-973d3c87cb62",
   "metadata": {},
   "source": [
    "where the exception has to do with a required field."
   ]
  },
  {
   "cell_type": "markdown",
   "id": "a888bc3d-f75b-4488-843e-96e60336c65c",
   "metadata": {},
   "source": [
    "To indicate to Pydantic that a field is nullable (will entertain either the actual type, or the None type), we need to specify it in the type hint."
   ]
  },
  {
   "cell_type": "code",
   "execution_count": 4,
   "id": "b93f4a28-adea-4024-9396-991bea6627ec",
   "metadata": {},
   "outputs": [],
   "source": [
    "class Model(BaseModel):\n",
    "    field: int | None"
   ]
  },
  {
   "cell_type": "markdown",
   "id": "d5569878-1b97-4be5-8571-238a6458e324",
   "metadata": {},
   "source": [
    "This type hint informs Pydantic that either an integer (or something that can be coerced to an integer) or `None` are acceptabler values for that field."
   ]
  },
  {
   "cell_type": "code",
   "execution_count": 5,
   "id": "4e0783d5-4547-4d91-9c63-375da590ded5",
   "metadata": {},
   "outputs": [
    {
     "data": {
      "text/plain": [
       "Model(field=None)"
      ]
     },
     "execution_count": 5,
     "metadata": {},
     "output_type": "execute_result"
    }
   ],
   "source": [
    "Model(field=None)"
   ]
  },
  {
   "cell_type": "code",
   "execution_count": 6,
   "id": "31bcfaa5-c6b4-44d1-b8a0-b6f519988789",
   "metadata": {},
   "outputs": [
    {
     "data": {
      "text/plain": [
       "Model(field=1)"
      ]
     },
     "execution_count": 6,
     "metadata": {},
     "output_type": "execute_result"
    }
   ],
   "source": [
    "Model(field=\"1\")"
   ]
  },
  {
   "cell_type": "markdown",
   "id": "6ee9df06-d644-498b-a43a-23c97e3fc759",
   "metadata": {},
   "source": [
    "As you can see, we now have a nullable field."
   ]
  },
  {
   "cell_type": "markdown",
   "id": "8dfebdf4-7c22-4813-8785-cea12bf60e41",
   "metadata": {},
   "source": [
    "But the field is not optional!"
   ]
  },
  {
   "cell_type": "code",
   "execution_count": 7,
   "id": "72177c01-aa64-42bb-adea-f4dd709c6768",
   "metadata": {},
   "outputs": [
    {
     "name": "stdout",
     "output_type": "stream",
     "text": [
      "1 validation error for Model\n",
      "field\n",
      "  Field required [type=missing, input_value={}, input_type=dict]\n",
      "    For further information visit https://errors.pydantic.dev/2.5/v/missing\n"
     ]
    }
   ],
   "source": [
    "try:\n",
    "    Model()\n",
    "except ValidationError as ex:\n",
    "    print(ex)"
   ]
  },
  {
   "cell_type": "markdown",
   "id": "4e4ff585-b237-405d-b5b6-b4cb3b95b972",
   "metadata": {},
   "source": [
    "Nullable fields and optional fields often go hand in hand, simply because we often choose to set the default for a field to `None`, to indicate no value has been provided in the data."
   ]
  },
  {
   "cell_type": "markdown",
   "id": "f524b856-fe55-4578-bdf6-e7743789120d",
   "metadata": {},
   "source": [
    "There are three ways of specifying nullability"
   ]
  },
  {
   "cell_type": "code",
   "execution_count": 15,
   "id": "ba5aef31-3eda-4448-a4e5-dfaac31fb051",
   "metadata": {},
   "outputs": [],
   "source": [
    "class Model(BaseModel):\n",
    "    field_1: int | None\n",
    "    field_2: Union[int, None]\n",
    "    field_3: Optional[int]"
   ]
  },
  {
   "cell_type": "markdown",
   "id": "7b523560-736c-48cb-ac77-6d6d79e330d2",
   "metadata": {},
   "source": [
    "And, in fact, when we look at the field definitions:"
   ]
  },
  {
   "cell_type": "code",
   "execution_count": 16,
   "id": "84c12a81-c9bf-483e-a097-ea03d5833c1c",
   "metadata": {},
   "outputs": [
    {
     "data": {
      "text/plain": [
       "{'field_1': FieldInfo(annotation=Union[int, NoneType], required=True),\n",
       " 'field_2': FieldInfo(annotation=Union[int, NoneType], required=True),\n",
       " 'field_3': FieldInfo(annotation=Union[int, NoneType], required=True)}"
      ]
     },
     "execution_count": 16,
     "metadata": {},
     "output_type": "execute_result"
    }
   ],
   "source": [
    "Model.model_fields"
   ]
  },
  {
   "cell_type": "markdown",
   "id": "1a75c292-2b16-4015-8294-f484213f9065",
   "metadata": {},
   "source": [
    "A very common mistake beginners make, is to set a field default to `None` without indicating that the field is nullable.\n",
    "\n",
    "In other words I often see code like this:"
   ]
  },
  {
   "cell_type": "code",
   "execution_count": 17,
   "id": "1005e958-7ab3-49e9-99ba-0cb32fbd410a",
   "metadata": {},
   "outputs": [],
   "source": [
    "class Model(BaseModel):\n",
    "    field: int = None"
   ]
  }
 ],
 "metadata": {
  "kernelspec": {
   "display_name": "Python 3 (ipykernel)",
   "language": "python",
   "name": "python3"
  },
  "language_info": {
   "codemirror_mode": {
    "name": "ipython",
    "version": 3
   },
   "file_extension": ".py",
   "mimetype": "text/x-python",
   "name": "python",
   "nbconvert_exporter": "python",
   "pygments_lexer": "ipython3",
   "version": "3.11.0"
  }
 },
 "nbformat": 4,
 "nbformat_minor": 5
}
