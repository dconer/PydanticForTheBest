{
 "cells": [
  {
   "cell_type": "markdown",
   "id": "2166a1fd-2b1d-4502-8452-c9397206c6f3",
   "metadata": {},
   "source": [
    "# Creating a Pydantic Model"
   ]
  },
  {
   "cell_type": "markdown",
   "id": "d0d05814-dc6a-4ce5-9e56-e0bcb8be02d0",
   "metadata": {},
   "source": [
    "To define a Pydantic model, we have to inherit from the `BaseModel` class."
   ]
  },
  {
   "cell_type": "code",
   "execution_count": 24,
   "id": "09719eda-8302-4eeb-8946-cf5ec6102d2f",
   "metadata": {},
   "outputs": [
    {
     "name": "stdout",
     "output_type": "stream",
     "text": [
      "first_name='Ayda' last_name='Galois' age=20\n",
      "Person(first_name='Ayda', last_name='Galois', age=20)\n",
      "{'first_name': FieldInfo(annotation=str, required=True), 'last_name': FieldInfo(annotation=str, required=True), 'age': FieldInfo(annotation=int, required=True)}\n"
     ]
    }
   ],
   "source": [
    "from pydantic import BaseModel\n",
    "\n",
    "\n",
    "class Person(BaseModel):\n",
    "    first_name: str\n",
    "    last_name: str\n",
    "    age: int\n",
    "\n",
    "\n",
    "p = Person(first_name=\"Ayda\", last_name=\"Galois\", age=20)\n",
    "\n",
    "# We can access using\n",
    "print(str(p))\n",
    "\n",
    "print(repr(p))\n",
    "\n",
    "print(p.model_fields)"
   ]
  },
  {
   "cell_type": "markdown",
   "id": "3271114d-8a6a-44f4-b918-75d175fc2c67",
   "metadata": {},
   "source": [
    "You'll notice that each field is listed, and one interesting thing is that `required=True` attached to each field. And indeed, if we were to try and create a model instance without passing in a value for any of those fields, we would get an exception. And indeed, if we were to try and create a model instance without passing in a value for any of those fields, we would get an exception. Pydantic raise the `ValidationError` whenever something goes wrong trying to create a model instance."
   ]
  },
  {
   "cell_type": "code",
   "execution_count": 11,
   "id": "e626b245-9bd2-404b-b583-f951c6beb3f3",
   "metadata": {},
   "outputs": [],
   "source": [
    "from pydantic import ValidationError"
   ]
  },
  {
   "cell_type": "markdown",
   "id": "74a2db07-8975-41fd-9b55-ac94f19e5ef6",
   "metadata": {},
   "source": [
    "Now let's see what happens when we don't provide a required field:"
   ]
  },
  {
   "cell_type": "code",
   "execution_count": 14,
   "id": "5f617dda-b02f-4ca5-b2d4-b7634f382051",
   "metadata": {},
   "outputs": [
    {
     "name": "stdout",
     "output_type": "stream",
     "text": [
      "2 validation errors for Person\n",
      "first_name\n",
      "  Field required [type=missing, input_value={'last_name': 'Galois'}, input_type=dict]\n",
      "    For further information visit https://errors.pydantic.dev/2.5/v/missing\n",
      "age\n",
      "  Field required [type=missing, input_value={'last_name': 'Galois'}, input_type=dict]\n",
      "    For further information visit https://errors.pydantic.dev/2.5/v/missing\n"
     ]
    }
   ],
   "source": [
    "try:\n",
    "    Person(last_name='Galois')\n",
    "except ValidationError as ex:\n",
    "    print(ex)"
   ]
  },
  {
   "cell_type": "markdown",
   "id": "b58c30d4-9e41-4128-9ba4-472cc0b59e3c",
   "metadata": {},
   "source": [
    "As you can see, Pydantic reports back on **all** the validation errors it encounters.\n",
    "\n",
    "By default, Pydantic does not stop validating data when it encounters the first validation issue. Instead it continues validating everything, and then returns a complete list of all the validation errors."
   ]
  },
  {
   "cell_type": "markdown",
   "id": "e9cad774-24da-4cc0-8846-c463702a0b08",
   "metadata": {},
   "source": [
    "This can be very useful for REST APIs, where you typically want to let an API caller know **everything** that was wrong with their JSON payload."
   ]
  },
  {
   "cell_type": "markdown",
   "id": "53d44f40-8134-4dab-8fef-bb75bea5ac5e",
   "metadata": {},
   "source": [
    "I mentioned that Pydantic classes are just regular Python classes. They obtain their special functionality by inheriting from `BaseModel`, but they are standard classes. Which means we can add properties and methods to it."
   ]
  },
  {
   "cell_type": "code",
   "execution_count": 15,
   "id": "04d4d33c-cb16-4ca9-93e3-308d9357c3cb",
   "metadata": {},
   "outputs": [],
   "source": [
    "class Person(BaseModel):\n",
    "    first_name: str\n",
    "    last_name: str\n",
    "    age: int\n",
    "\n",
    "    @property\n",
    "    def display_name(self):\n",
    "        return f\"{self.first_name} {self.last_name[0]}\""
   ]
  },
  {
   "cell_type": "code",
   "execution_count": 16,
   "id": "1449b1b7-e461-49d2-b4f7-7c89ab441405",
   "metadata": {},
   "outputs": [
    {
     "data": {
      "text/plain": [
       "Person(first_name='Evariste', last_name='Galois', age=20)"
      ]
     },
     "execution_count": 16,
     "metadata": {},
     "output_type": "execute_result"
    }
   ],
   "source": [
    "p = Person(first_name=\"Evariste\", last_name=\"Galois\", age=20)\n",
    "p"
   ]
  },
  {
   "cell_type": "code",
   "execution_count": 17,
   "id": "04f3d125-da90-4ab5-9eeb-e5d872d70c90",
   "metadata": {},
   "outputs": [
    {
     "data": {
      "text/plain": [
       "'Evariste G'"
      ]
     },
     "execution_count": 17,
     "metadata": {},
     "output_type": "execute_result"
    }
   ],
   "source": [
    "p.display_name"
   ]
  },
  {
   "cell_type": "markdown",
   "id": "81fd239c-1b0f-43ae-9493-37eaae4bcd26",
   "metadata": {},
   "source": [
    "Now, we have to be a bit careful here. Pydantic will perform validation when it loads data (**deserializes** data) to create a model instance.\n",
    "\n",
    "In particular, we have type hints attached to each field:"
   ]
  },
  {
   "cell_type": "code",
   "execution_count": 25,
   "id": "09bf6210-116e-4ed4-ad6c-2a5c66ff718b",
   "metadata": {},
   "outputs": [
    {
     "name": "stdout",
     "output_type": "stream",
     "text": [
      "1 validation error for Person\n",
      "age\n",
      "  Input should be a valid integer, unable to parse string as an integer [type=int_parsing, input_value='twenty', input_type=str]\n",
      "    For further information visit https://errors.pydantic.dev/2.5/v/int_parsing\n"
     ]
    }
   ],
   "source": [
    "try:\n",
    "    Person(first_name='Evariste', last_name='Galois', age='twenty')\n",
    "except ValidationError as ex:\n",
    "    print(ex)"
   ]
  },
  {
   "cell_type": "markdown",
   "id": "b60d6b67-e650-40b3-957f-71bb64b92ed3",
   "metadata": {},
   "source": [
    "As you can see, our incorrect input for `age` is trapped by Pydantic.\n",
    "\n",
    "However, by default, this does not happen when we set a field value once the model instance has been created:"
   ]
  },
  {
   "cell_type": "code",
   "execution_count": 21,
   "id": "b82691ef-e576-42db-9c18-1b8a3312e6b2",
   "metadata": {},
   "outputs": [],
   "source": [
    "p.age = \"twenty\""
   ]
  },
  {
   "cell_type": "code",
   "execution_count": 22,
   "id": "c171ccca-d544-4a94-aa2e-14d9815fbaab",
   "metadata": {},
   "outputs": [
    {
     "data": {
      "text/plain": [
       "Person(first_name='Evariste', last_name='Galois', age='twenty')"
      ]
     },
     "execution_count": 22,
     "metadata": {},
     "output_type": "execute_result"
    }
   ],
   "source": [
    "p"
   ]
  },
  {
   "cell_type": "code",
   "execution_count": 29,
   "metadata": {},
   "outputs": [],
   "source": [
    "from pathlib import Path as p\n",
    "from copy import deepcopy\n",
    "import re\n",
    "\n",
    "REGX_PATTERN = \"( - | )\"\n",
    "REPLACE_WITH = \"-\"\n",
    "# Get current directory\n",
    "rel_path = p.cwd()\n",
    "# Get all files\n",
    "files = [file for file in rel_path.iterdir()]\n",
    "# Get all filenames\n",
    "names = [file.name for file in files]\n",
    "# Do type casting for each name\n",
    "fmt_names = [re.sub(REGX_PATTERN, REPLACE_WITH, name) for name in names]\n",
    "# Change each file name\n",
    "for file, name in zip(files, fmt_names):\n",
    "    file.with_name(name)"
   ]
  },
  {
   "cell_type": "markdown",
   "id": "9114dff6-3a45-4c67-bb8d-f74deb149018",
   "metadata": {},
   "source": [
    "See? The change went through.\n",
    "\n",
    "In a later video, I'll show you how we can configure our Pydantic model so that doing this will also raise a `ValidationError` exception."
   ]
  }
 ],
 "metadata": {
  "kernelspec": {
   "display_name": "Python 3 (ipykernel)",
   "language": "python",
   "name": "python3"
  },
  "language_info": {
   "codemirror_mode": {
    "name": "ipython",
    "version": 3
   },
   "file_extension": ".py",
   "mimetype": "text/x-python",
   "name": "python",
   "nbconvert_exporter": "python",
   "pygments_lexer": "ipython3",
   "version": "3.11.0"
  }
 },
 "nbformat": 4,
 "nbformat_minor": 5
}
