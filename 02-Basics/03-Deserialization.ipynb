{
 "cells": [
  {
   "cell_type": "markdown",
   "id": "3e3d310e-3689-44e6-b4d3-765b9e156b3f",
   "metadata": {},
   "source": [
    "# Deserialization"
   ]
  },
  {
   "cell_type": "markdown",
   "id": "5955393e-60ce-4183-afa0-fb2acf301593",
   "metadata": {},
   "source": [
    "Deserialization is the act of taking data (that can be provided in a number of ways) to create and populate a new model instance."
   ]
  },
  {
   "cell_type": "markdown",
   "id": "c278b761-3f6f-46a2-b5e9-afebc4d0fc5e",
   "metadata": {},
   "source": [
    "We already saw one way of doing this:"
   ]
  },
  {
   "cell_type": "code",
   "execution_count": 2,
   "id": "2588053a-0d42-4dbc-8163-d9c5a8796b5c",
   "metadata": {},
   "outputs": [
    {
     "data": {
      "text/plain": [
       "{'first_name': FieldInfo(annotation=str, required=True),\n",
       " 'last_name': FieldInfo(annotation=str, required=True),\n",
       " 'age': FieldInfo(annotation=int, required=True)}"
      ]
     },
     "execution_count": 2,
     "metadata": {},
     "output_type": "execute_result"
    }
   ],
   "source": [
    "from pydantic import BaseModel, ValidationError\n",
    "\n",
    "\n",
    "class Person(BaseModel):\n",
    "    first_name: str\n",
    "    last_name: str\n",
    "    age: int\n",
    "\n",
    "\n",
    "p = Person(first_name='Isaac', last_name='Newton', age=84)"
   ]
  },
  {
   "cell_type": "markdown",
   "id": "6dfd531b-014c-439a-a573-c355f0080237",
   "metadata": {},
   "source": [
    "Pydantic can handle deserializing data in two other formats:\n",
    "- a Python `dict`\n",
    "- a JSON string"
   ]
  },
  {
   "cell_type": "markdown",
   "id": "281238fb-7d46-465f-9915-c2de897ba3d7",
   "metadata": {},
   "source": [
    "Let's look at `dict` first:"
   ]
  },
  {
   "cell_type": "code",
   "execution_count": 16,
   "id": "1f17ae7f-f49e-40db-8bae-205c93d2581e",
   "metadata": {},
   "outputs": [
    {
     "data": {
      "text/plain": [
       "(Person(first_name='Isaac', last_name='Newton', age=84),\n",
       " Person(first_name='Isaac', last_name='Newton', age=84))"
      ]
     },
     "execution_count": 16,
     "metadata": {},
     "output_type": "execute_result"
    }
   ],
   "source": [
    "data = {\n",
    "    \"first_name\": \"Isaac\",\n",
    "    \"last_name\": \"Newton\",\n",
    "    \"age\": 84\n",
    "}\n",
    "\n",
    "# One way\n",
    "m = Person(**data)\n",
    "# Second Way: better\n",
    "p = Person.model_validate(data)\n",
    "m, p"
   ]
  },
  {
   "cell_type": "markdown",
   "id": "3803628e-8cc5-486e-b2ec-057022861779",
   "metadata": {},
   "source": [
    "The same validation exceptions we saw earlier will be raised when we have validation issues:"
   ]
  },
  {
   "cell_type": "code",
   "execution_count": 17,
   "id": "5900f8a7-4cd7-4be7-9977-4be7334f24c1",
   "metadata": {},
   "outputs": [
    {
     "name": "stdout",
     "output_type": "stream",
     "text": [
      "2 validation errors for Person\n",
      "first_name\n",
      "  Field required [type=missing, input_value={'last_name': 'Newton'}, input_type=dict]\n",
      "    For further information visit https://errors.pydantic.dev/2.5/v/missing\n",
      "age\n",
      "  Field required [type=missing, input_value={'last_name': 'Newton'}, input_type=dict]\n",
      "    For further information visit https://errors.pydantic.dev/2.5/v/missing\n"
     ]
    }
   ],
   "source": [
    "missing_data = {\n",
    "    \"last_name\": \"Newton\"\n",
    "}\n",
    "\n",
    "try:\n",
    "    Person.model_validate(missing_data)\n",
    "except ValidationError as ex:\n",
    "    print(ex)"
   ]
  },
  {
   "cell_type": "markdown",
   "id": "7017f94c-0c55-4e61-88f2-b09226798332",
   "metadata": {},
   "source": [
    "The second data format that Pydantic can deserialize is JSON. This is of course hugely beneficial when working with REST APIs, where requests and responses are typically in JSON format.\n",
    "\n",
    "For that, Pydantic provides the `model_validate_json()` method."
   ]
  },
  {
   "cell_type": "code",
   "execution_count": 18,
   "id": "e833720a-b152-411d-a171-6eb96aed59b5",
   "metadata": {},
   "outputs": [
    {
     "data": {
      "text/plain": [
       "Person(first_name='Isaac', last_name='Newton', age=84)"
      ]
     },
     "execution_count": 18,
     "metadata": {},
     "output_type": "execute_result"
    }
   ],
   "source": [
    "data_json = '''\n",
    "{\n",
    "    \"first_name\": \"Isaac\",\n",
    "    \"last_name\": \"Newton\",\n",
    "    \"age\": 84\n",
    "}\n",
    "'''\n",
    "p = Person.model_validate_json(data_json)\n",
    "p"
   ]
  },
  {
   "cell_type": "markdown",
   "id": "2ad8b93c-92c3-4808-9151-2787f92f3249",
   "metadata": {},
   "source": [
    "And validation exceptions happen just like before:"
   ]
  },
  {
   "cell_type": "code",
   "execution_count": 19,
   "id": "5113a337-a9ae-4126-ae27-c7a99767e86d",
   "metadata": {},
   "outputs": [
    {
     "name": "stdout",
     "output_type": "stream",
     "text": [
      "2 validation errors for Person\n",
      "first_name\n",
      "  Field required [type=missing, input_value={'last_name': 'Newton'}, input_type=dict]\n",
      "    For further information visit https://errors.pydantic.dev/2.5/v/missing\n",
      "age\n",
      "  Field required [type=missing, input_value={'last_name': 'Newton'}, input_type=dict]\n",
      "    For further information visit https://errors.pydantic.dev/2.5/v/missing\n"
     ]
    }
   ],
   "source": [
    "missing_data_json = '''\n",
    "{\n",
    "    \"last_name\": \"Newton\"\n",
    "}\n",
    "'''\n",
    "\n",
    "try:\n",
    "    Person.model_validate_json(missing_data_json)\n",
    "except ValidationError as ex:\n",
    "    print(ex)"
   ]
  }
 ],
 "metadata": {
  "kernelspec": {
   "display_name": "Python 3 (ipykernel)",
   "language": "python",
   "name": "python3"
  },
  "language_info": {
   "codemirror_mode": {
    "name": "ipython",
    "version": 3
   },
   "file_extension": ".py",
   "mimetype": "text/x-python",
   "name": "python",
   "nbconvert_exporter": "python",
   "pygments_lexer": "ipython3",
   "version": "3.11.0"
  }
 },
 "nbformat": 4,
 "nbformat_minor": 5
}
