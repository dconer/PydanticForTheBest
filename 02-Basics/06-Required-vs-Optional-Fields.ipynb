{
 "cells": [
  {
   "cell_type": "markdown",
   "id": "bd72b045-c69a-49e6-b55f-e8fff2cc0fad",
   "metadata": {},
   "source": [
    "# Required vs Optional Fields"
   ]
  },
  {
   "cell_type": "code",
   "execution_count": 3,
   "id": "fb2d3d9a-a7c6-4f32-9557-3170ddd8703e",
   "metadata": {},
   "outputs": [],
   "source": [
    "from pydantic import BaseModel\n",
    "\n",
    "# To make a field optional look at center\n",
    "\n",
    "\n",
    "class Circle(BaseModel):\n",
    "    center: tuple[int, int] = (0, 0)\n",
    "    radius: int"
   ]
  },
  {
   "cell_type": "markdown",
   "id": "56b64c6d-6834-464b-b070-281dee7588f5",
   "metadata": {},
   "source": [
    "We can also see this by inspecting the model fields:"
   ]
  },
  {
   "cell_type": "code",
   "execution_count": 2,
   "id": "0ccbaeea-3737-42bb-a834-5ecfc0714299",
   "metadata": {},
   "outputs": [
    {
     "data": {
      "text/plain": [
       "{'center': FieldInfo(annotation=tuple[int, int], required=False, default=(0, 0)),\n",
       " 'radius': FieldInfo(annotation=int, required=True)}"
      ]
     },
     "execution_count": 2,
     "metadata": {},
     "output_type": "execute_result"
    }
   ],
   "source": [
    "Circle.model_fields"
   ]
  },
  {
   "cell_type": "markdown",
   "id": "55c31437-e765-45b7-ac9c-4e1de65ceb89",
   "metadata": {},
   "source": [
    "We can now create instances of `Circle` without providing a value for `center`:"
   ]
  },
  {
   "cell_type": "code",
   "execution_count": 3,
   "id": "45eecb2a-e31b-4530-8dfb-f89f2a93b895",
   "metadata": {},
   "outputs": [
    {
     "data": {
      "text/plain": [
       "Circle(center=(0, 0), radius=1)"
      ]
     },
     "execution_count": 3,
     "metadata": {},
     "output_type": "execute_result"
    }
   ],
   "source": [
    "Circle(radius=1)"
   ]
  },
  {
   "cell_type": "code",
   "execution_count": 4,
   "id": "bab00704-2ba4-40f4-954b-ab45bd56a7c0",
   "metadata": {},
   "outputs": [],
   "source": [
    "data = {\"radius\": 1}\n",
    "data_json = '{\"radius\": 1}'"
   ]
  },
  {
   "cell_type": "code",
   "execution_count": 5,
   "id": "d6442fea-e7c3-4d2e-bc44-34fe236e2cf8",
   "metadata": {},
   "outputs": [
    {
     "data": {
      "text/plain": [
       "Circle(center=(0, 0), radius=1)"
      ]
     },
     "execution_count": 5,
     "metadata": {},
     "output_type": "execute_result"
    }
   ],
   "source": [
    "Circle.model_validate(data)"
   ]
  },
  {
   "cell_type": "code",
   "execution_count": 6,
   "id": "5de5e3d3-2517-4f9f-a3c0-31a644e28ebc",
   "metadata": {},
   "outputs": [
    {
     "data": {
      "text/plain": [
       "Circle(center=(0, 0), radius=1)"
      ]
     },
     "execution_count": 6,
     "metadata": {},
     "output_type": "execute_result"
    }
   ],
   "source": [
    "Circle.model_validate_json(data_json)"
   ]
  },
  {
   "cell_type": "markdown",
   "id": "b512acbb-bbc9-405e-a19b-413a88aa3096",
   "metadata": {},
   "source": [
    "Of course, we can provide a value for center too:"
   ]
  },
  {
   "cell_type": "code",
   "execution_count": 7,
   "id": "07a66c0b-7b4b-4327-b067-f12f344b185c",
   "metadata": {},
   "outputs": [
    {
     "data": {
      "text/plain": [
       "Circle(center=(1, 1), radius=2)"
      ]
     },
     "execution_count": 7,
     "metadata": {},
     "output_type": "execute_result"
    }
   ],
   "source": [
    "Circle(center=(1, 1), radius=2)"
   ]
  },
  {
   "cell_type": "markdown",
   "id": "1c87433e-ad01-47c9-ba8a-696a563a1701",
   "metadata": {},
   "source": [
    "We have to be quite careful about one thing when specifying a default value for a field.\n",
    "\n",
    "When we provide a field value, Pydantic validates that value before putting it into our model instance. However, Pydantic's default behavior does not validate default values!\n",
    "\n",
    "That kind of makes sense - after all, we are writing the model definition, so we should be able to only provide a valid default value in our model definition."
   ]
  },
  {
   "cell_type": "markdown",
   "id": "769011d7-e3b5-40e9-9f22-70f912fa13c3",
   "metadata": {},
   "source": [
    "So, here's the issue:"
   ]
  },
  {
   "cell_type": "code",
   "execution_count": 4,
   "id": "e5167502-550a-4b43-8fac-31a14fcfb5be",
   "metadata": {},
   "outputs": [],
   "source": [
    "class Model(BaseModel):\n",
    "    field: int = \"Python\""
   ]
  },
  {
   "cell_type": "markdown",
   "id": "f7256c18-291f-44ad-aa4f-9c8d305f75bd",
   "metadata": {},
   "source": [
    "As you can see, the provided default is totally inconsistent for an `int` type, and yet this still works:"
   ]
  },
  {
   "cell_type": "code",
   "execution_count": 8,
   "id": "0d9ae9cb-5179-4a76-aadb-ae3222e90571",
   "metadata": {},
   "outputs": [
    {
     "data": {
      "text/plain": [
       "Model(field=10)"
      ]
     },
     "execution_count": 8,
     "metadata": {},
     "output_type": "execute_result"
    }
   ],
   "source": [
    "Model(field=10)"
   ]
  },
  {
   "cell_type": "markdown",
   "id": "c4742898-939d-44e7-b95f-35317da4df6d",
   "metadata": {},
   "source": [
    "Usually in Python, including dataclasses, we have to be extra careful when we assign a default that is a mutable object.\n",
    "\n",
    "let's look at an example of this with a regular Python function:"
   ]
  },
  {
   "cell_type": "markdown",
   "id": "cb75f486-edde-4542-b024-f7decc1ce796",
   "metadata": {},
   "source": [
    "By the way, writing a function that behaves this way - modifies it's input and returns it, is a terrible coding technique - I'm just using this to illustrate a point.\n",
    "\n",
    "We can call this function with our own list:"
   ]
  },
  {
   "cell_type": "markdown",
   "id": "62a4533d-7b36-433a-ba72-78bcc9f6212b",
   "metadata": {},
   "source": [
    "Huh??"
   ]
  },
  {
   "cell_type": "markdown",
   "id": "814700d2-dd93-4b3d-b197-4070282d8dd2",
   "metadata": {},
   "source": [
    "This is the issue I was telling you about. When we defined a default for function arguments, these values are calculated and stored with the function itself - they are not re-created every time the function is called. In other words, that default value is going to be **shared** amogst all the function calls.\n",
    "\n",
    "Something similar happens with dataclases. In dataclasses, we get around the problem by a mechanism that is called a default factory. Instead of providing a mutable object as a default value, we provide a function that will get called each time a dataclass instance is created, and that function will therefore return a **new** default object.\n",
    "\n",
    "Pydantic is very similar, in that it offers this default factory idea (which we'll cover later).\n",
    "\n",
    "However, it goes one step further, and actually allows us to simply define mutable objects as defaults. \n",
    "\n",
    "When Pydantic sees this, it will actually create a deep copy of the mutable object every time a new model instance is created."
   ]
  }
 ],
 "metadata": {
  "kernelspec": {
   "display_name": "Python 3 (ipykernel)",
   "language": "python",
   "name": "python3"
  },
  "language_info": {
   "codemirror_mode": {
    "name": "ipython",
    "version": 3
   },
   "file_extension": ".py",
   "mimetype": "text/x-python",
   "name": "python",
   "nbconvert_exporter": "python",
   "pygments_lexer": "ipython3",
   "version": "3.11.0"
  }
 },
 "nbformat": 4,
 "nbformat_minor": 5
}
