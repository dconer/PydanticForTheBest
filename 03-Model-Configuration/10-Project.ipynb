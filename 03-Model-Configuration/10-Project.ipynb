{
 "cells": [
  {
   "cell_type": "markdown",
   "id": "50861341-1f6a-483f-bced-af16ebbffce0",
   "metadata": {},
   "source": [
    "# Project (Section 3)"
   ]
  },
  {
   "cell_type": "markdown",
   "id": "19d9fd5d-cf74-43c2-ba12-c750885f89be",
   "metadata": {},
   "source": [
    "This is the Pydantic model we ended up with in the last section's project:"
   ]
  },
  {
   "cell_type": "code",
   "execution_count": 1,
   "id": "f7340805-ec76-46cc-835a-ce15d5be6941",
   "metadata": {},
   "outputs": [],
   "source": [
    "from datetime import date\n",
    "from pydantic import BaseModel\n",
    "\n",
    "\n",
    "class Automobile(BaseModel):\n",
    "    manufacturer: str\n",
    "    series_name: str\n",
    "    type_: str\n",
    "    is_electric: bool = False\n",
    "    manufactured_date: date\n",
    "    base_msrp_usd: float\n",
    "    vin: str\n",
    "    number_of_doors: int = 4\n",
    "    registration_country: str | None = None\n",
    "    license_plate: str | None = None"
   ]
  },
  {
   "cell_type": "markdown",
   "id": "966da84f-d140-493d-9d62-32238a61f613",
   "metadata": {},
   "source": [
    "Modify your `Automobile` model to implement the following:\n",
    "- set model to forbid extra fields\n",
    "- set model to strip whitespace from all string fields\n",
    "- set model to validate defaults and assignments\n",
    "- use the enum provided below for the `type_` field"
   ]
  },
  {
   "cell_type": "code",
   "execution_count": null,
   "id": "5f932116",
   "metadata": {},
   "outputs": [],
   "source": []
  },
  {
   "cell_type": "code",
   "execution_count": 2,
   "id": "4e751be4",
   "metadata": {},
   "outputs": [],
   "source": [
    "from datetime import date\n",
    "from pydantic import BaseModel, ConfigDict\n",
    "from enum import Enum\n",
    "\n",
    "\n",
    "class AutomobileType(Enum):\n",
    "    sedan = \"Sedan\"\n",
    "    coupe = \"Coupe\"\n",
    "    convertible = \"Convertible\"\n",
    "    suv = \"SUV\"\n",
    "    truck = \"Truck\"\n",
    "\n",
    "\n",
    "class Automobile(BaseModel):\n",
    "    model_config = ConfigDict(extra=\"forbid\",\n",
    "                              str_strip_whitespace=True,\n",
    "                              validate_default=True,\n",
    "                              validate_assignment=True,\n",
    "                              use_enum_values=True\n",
    "                              )\n",
    "\n",
    "    manufacturer: str\n",
    "    series_name: str\n",
    "    type_: AutomobileType\n",
    "    is_electric: bool = False\n",
    "    manufactured_date: date\n",
    "    base_msrp_usd: float\n",
    "    vin: str\n",
    "    number_of_doors: int = 4\n",
    "    registration_country: str | None = None\n",
    "    license_plate: str | None = None"
   ]
  },
  {
   "cell_type": "markdown",
   "id": "b6caef1e-6984-4ab5-8401-7c21e7e3103a",
   "metadata": {},
   "source": [
    "You can test your model by serializing and deserializing this data:"
   ]
  },
  {
   "cell_type": "code",
   "execution_count": 4,
   "id": "f917855c-9fda-4b07-bcc1-28c7e3a49c8e",
   "metadata": {},
   "outputs": [],
   "source": [
    "data_json = '''\n",
    "{\n",
    "    \"manufacturer\": \" BMW \",\n",
    "    \"series_name\": \" M4 \",\n",
    "    \"type_\": \"Convertible\",\n",
    "    \"manufactured_date\": \"2023-01-01\",\n",
    "    \"base_msrp_usd\": 93300,\n",
    "    \"vin\": \" 1234567890 \"\n",
    "}\n",
    "'''\n",
    "\n",
    "data_json_expected_serialization = {\n",
    "    'manufacturer': 'BMW',\n",
    "    'series_name': 'M4',\n",
    "    'type_': AutomobileType.convertible,\n",
    "    'is_electric': False,\n",
    "    'manufactured_date': date(2023, 1, 1),\n",
    "    'base_msrp_usd': 93300.0,\n",
    "    'vin': '1234567890',\n",
    "    'number_of_doors': 4,\n",
    "    'registration_country': None,\n",
    "    'license_plate': None\n",
    "}"
   ]
  },
  {
   "cell_type": "code",
   "execution_count": 6,
   "id": "d88d2aa4",
   "metadata": {},
   "outputs": [
    {
     "data": {
      "text/plain": [
       "{'manufacturer': 'BMW',\n",
       " 'series_name': 'M4',\n",
       " 'type_': 'Convertible',\n",
       " 'is_electric': False,\n",
       " 'manufactured_date': datetime.date(2023, 1, 1),\n",
       " 'base_msrp_usd': 93300.0,\n",
       " 'vin': '1234567890',\n",
       " 'number_of_doors': 4,\n",
       " 'registration_country': None,\n",
       " 'license_plate': None}"
      ]
     },
     "execution_count": 6,
     "metadata": {},
     "output_type": "execute_result"
    }
   ],
   "source": [
    "Automobile.model_validate_json(data_json).model_dump()"
   ]
  },
  {
   "cell_type": "markdown",
   "id": "cf58a48e-7eda-471e-a461-6903a6a14547",
   "metadata": {},
   "source": [
    "Of course, please add your own tests to cover cases like nullable fields, validation errors showing up as expected, etc."
   ]
  },
  {
   "cell_type": "code",
   "execution_count": null,
   "id": "09c37817-1d0f-4ad8-bc62-2aa041cc111b",
   "metadata": {},
   "outputs": [],
   "source": []
  }
 ],
 "metadata": {
  "kernelspec": {
   "display_name": "Python 3 (ipykernel)",
   "language": "python",
   "name": "python3"
  },
  "language_info": {
   "codemirror_mode": {
    "name": "ipython",
    "version": 3
   },
   "file_extension": ".py",
   "mimetype": "text/x-python",
   "name": "python",
   "nbconvert_exporter": "python",
   "pygments_lexer": "ipython3",
   "version": "3.11.0"
  }
 },
 "nbformat": 4,
 "nbformat_minor": 5
}
